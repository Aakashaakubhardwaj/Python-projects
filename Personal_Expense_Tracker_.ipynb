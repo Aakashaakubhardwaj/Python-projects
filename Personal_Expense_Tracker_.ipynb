{
  "nbformat": 4,
  "nbformat_minor": 0,
  "metadata": {
    "colab": {
      "provenance": [],
      "authorship_tag": "ABX9TyOZJ7CpFose2q/8tGZlGHiW",
      "include_colab_link": true
    },
    "kernelspec": {
      "name": "python3",
      "display_name": "Python 3"
    },
    "language_info": {
      "name": "python"
    }
  },
  "cells": [
    {
      "cell_type": "markdown",
      "metadata": {
        "id": "view-in-github",
        "colab_type": "text"
      },
      "source": [
        "<a href=\"https://colab.research.google.com/github/Aakashaakubhardwaj/Python-projects/blob/main/Personal_Expense_Tracker_.ipynb\" target=\"_parent\"><img src=\"https://colab.research.google.com/assets/colab-badge.svg\" alt=\"Open In Colab\"/></a>"
      ]
    },
    {
      "cell_type": "code",
      "source": [
        "import datetime\n",
        "\n",
        "def get_expense_details():\n",
        "\n",
        "  category = input(\"Enter expense category: \")\n",
        "  amount = float(input(\"Enter expense amount: \"))\n",
        "  description = input(\"Enter expense description: \")\n",
        "\n",
        "  return {\n",
        "      \"category\": category,\n",
        "      \"amount\": amount,\n",
        "      \"description\": description\n",
        "  }\n",
        "\n",
        "expenses = []\n",
        "\n",
        "num_expenses = int(input(\"Enter the number of expenses to add: \"))\n",
        "for _ in range(num_expenses):\n",
        "  expense_details = get_expense_details()\n",
        "  expense_details['date'] = datetime.date.today().isoformat()\n",
        "  expenses.append(expense_details)\n",
        "\n",
        "\n",
        "print(expenses)"
      ],
      "metadata": {
        "id": "gpXlWiMUfPYP",
        "colab": {
          "base_uri": "https://localhost:8080/",
          "height": 0
        },
        "outputId": "37e27df6-32da-48b7-81ac-11cb252736e3"
      },
      "execution_count": 1,
      "outputs": [
        {
          "output_type": "stream",
          "name": "stdout",
          "text": [
            "Enter the number of expenses to add: 4\n",
            "Enter expense category: Rent\n",
            "Enter expense amount: 27000\n",
            "Enter expense description: Monthly rent\n",
            "Enter expense category: Food\n",
            "Enter expense amount: 15000\n",
            "Enter expense description: Total food Budget\n",
            "Enter expense category: Emis and Bills\n",
            "Enter expense amount: 28000\n",
            "Enter expense description: Electricity bill and car emi\n",
            "Enter expense category: Misc\n",
            "Enter expense amount: 10000\n",
            "Enter expense description: Veges,dairy,etc\n",
            "[{'category': 'Rent', 'amount': 27000.0, 'description': 'Monthly rent', 'date': '2024-11-14'}, {'category': 'Food', 'amount': 15000.0, 'description': 'Total food Budget', 'date': '2024-11-14'}, {'category': 'Emis and Bills', 'amount': 28000.0, 'description': 'Electricity bill and car emi', 'date': '2024-11-14'}, {'category': 'Misc', 'amount': 10000.0, 'description': 'Veges,dairy,etc', 'date': '2024-11-14'}]\n"
          ]
        }
      ]
    },
    {
      "cell_type": "code",
      "source": [
        "def display_expenses(expenses):\n",
        "\n",
        "  for expense in expenses:\n",
        "    print(expense)\n",
        "\n",
        "display_expenses(expenses)\n"
      ],
      "metadata": {
        "colab": {
          "base_uri": "https://localhost:8080/",
          "height": 0
        },
        "id": "yynoobKqL9CJ",
        "outputId": "6e493f4e-64cc-4c80-a830-e8143f536e75"
      },
      "execution_count": 10,
      "outputs": [
        {
          "output_type": "stream",
          "name": "stdout",
          "text": [
            "{'date': '2024-11-14', 'category': 'Rent', 'amount': 27000.0, 'description': 'Monthly rent'}\n",
            "{'date': '2024-11-14', 'category': 'Food', 'amount': 15000.0, 'description': 'Total food Budget'}\n",
            "{'date': '2024-11-14', 'category': 'Emis and Bills', 'amount': 28000.0, 'description': 'Electricity bill and car emi'}\n",
            "{'date': '2024-11-14', 'category': 'Misc', 'amount': 10000.0, 'description': 'Veges,dairy,etc'}\n"
          ]
        }
      ]
    },
    {
      "cell_type": "code",
      "source": [
        "def get_monthly_budget():\n",
        "\n",
        "  while True:\n",
        "    try:\n",
        "      budget = float(input(\"Enter your monthly budget: \"))\n",
        "      if budget > 0:\n",
        "        return budget\n",
        "      else:\n",
        "        print(\"Invalid input. Budget must be a positive number.\")\n",
        "    except ValueError:\n",
        "      print(\"Invalid input. Please enter a number.\")\n",
        "\n",
        "# Example usage:\n",
        "monthly_budget = get_monthly_budget()\n",
        "print(f\"Your monthly budget is: {monthly_budget}\")"
      ],
      "metadata": {
        "id": "7cPIFfqxN_BI",
        "colab": {
          "base_uri": "https://localhost:8080/",
          "height": 0
        },
        "outputId": "5f6bc271-61dd-4ade-a551-351e8ae5e3c5"
      },
      "execution_count": 3,
      "outputs": [
        {
          "output_type": "stream",
          "name": "stdout",
          "text": [
            "Enter your monthly budget: 90000\n",
            "Your monthly budget is: 90000.0\n"
          ]
        }
      ]
    },
    {
      "cell_type": "code",
      "source": [
        "def calculate_expenses_and_balance(expenses, budget):\n",
        "  total_expenses = sum(expense['amount'] for expense in expenses)\n",
        "\n",
        "  if total_expenses <= budget:\n",
        "    remaining_balance = budget - total_expenses\n",
        "    print(f\"Total budget: {monthly_budget}\")\n",
        "    print(f\"Total expenses: {total_expenses}\")\n",
        "    print(f\"Remaining balance: {remaining_balance}\")\n",
        "  else:\n",
        "    print(f\"Total expenses: {total_expenses}\")\n",
        "    print(\"You have exceeded your budget.\")\n",
        "\n",
        "\n",
        "calculate_expenses_and_balance(expenses, monthly_budget)\n"
      ],
      "metadata": {
        "id": "SLltwhasQgow",
        "colab": {
          "base_uri": "https://localhost:8080/",
          "height": 0
        },
        "outputId": "32687c75-0444-4cd6-9c29-dab2adbcd520"
      },
      "execution_count": 4,
      "outputs": [
        {
          "output_type": "stream",
          "name": "stdout",
          "text": [
            "Total budget: 90000.0\n",
            "Total expenses: 80000.0\n",
            "Remaining balance: 10000.0\n"
          ]
        }
      ]
    },
    {
      "cell_type": "code",
      "source": [
        "import csv\n",
        "\n",
        "def save_expenses_to_csv(expenses, filename=\"expenses.csv\"):\n",
        "  with open(filename, 'w', newline='') as csvfile:\n",
        "    fieldnames = ['date', 'category', 'amount', 'description']\n",
        "    writer = csv.DictWriter(csvfile, fieldnames=fieldnames)\n",
        "\n",
        "    writer.writeheader()\n",
        "    writer.writerows(expenses)\n",
        "\n",
        "  print(f\"Expenses saved to {filename}\")"
      ],
      "metadata": {
        "id": "sfrLr64GRhkr"
      },
      "execution_count": 5,
      "outputs": []
    },
    {
      "cell_type": "code",
      "source": [
        "save_expenses_to_csv(expenses)\n",
        "save_expenses_to_csv(expenses, \"my_expenses.csv\")"
      ],
      "metadata": {
        "id": "3tAWkcr4SM4q",
        "colab": {
          "base_uri": "https://localhost:8080/",
          "height": 0
        },
        "outputId": "2bab2725-5d94-4680-d3df-00648a37cdd3"
      },
      "execution_count": 6,
      "outputs": [
        {
          "output_type": "stream",
          "name": "stdout",
          "text": [
            "Expenses saved to expenses.csv\n",
            "Expenses saved to my_expenses.csv\n"
          ]
        }
      ]
    },
    {
      "cell_type": "code",
      "source": [
        "def load_expenses_from_csv(filename=\"expenses.csv\"):\n",
        "\n",
        "  expenses = []\n",
        "  with open(filename, 'r', newline='') as csvfile:\n",
        "    reader = csv.DictReader(csvfile)\n",
        "    for row in reader:\n",
        "      # Convert amount to float\n",
        "      row['amount'] = float(row['amount'])\n",
        "      expenses.append(row)\n",
        "  return expenses\n",
        "expenses = load_expenses_from_csv()\n",
        "expenses"
      ],
      "metadata": {
        "id": "UTV9FOe8STJq",
        "colab": {
          "base_uri": "https://localhost:8080/",
          "height": 0
        },
        "outputId": "d8efc513-087d-49a6-c3b3-b974b27d7c1d"
      },
      "execution_count": 7,
      "outputs": [
        {
          "output_type": "execute_result",
          "data": {
            "text/plain": [
              "[{'date': '2024-11-14',\n",
              "  'category': 'Rent',\n",
              "  'amount': 27000.0,\n",
              "  'description': 'Monthly rent'},\n",
              " {'date': '2024-11-14',\n",
              "  'category': 'Food',\n",
              "  'amount': 15000.0,\n",
              "  'description': 'Total food Budget'},\n",
              " {'date': '2024-11-14',\n",
              "  'category': 'Emis and Bills',\n",
              "  'amount': 28000.0,\n",
              "  'description': 'Electricity bill and car emi'},\n",
              " {'date': '2024-11-14',\n",
              "  'category': 'Misc',\n",
              "  'amount': 10000.0,\n",
              "  'description': 'Veges,dairy,etc'}]"
            ]
          },
          "metadata": {},
          "execution_count": 7
        }
      ]
    },
    {
      "cell_type": "code",
      "source": [
        "def display_menu():\n",
        "  \"\"\"Displays a menu of options for the expense tracker.\"\"\"\n",
        "\n",
        "  print(\"\\nExpense Tracker Menu:\")\n",
        "  print(\"1. Add expense\")\n",
        "  print(\"2. Display expenses\")\n",
        "  print(\"3. Calculate expenses and balance\")\n",
        "  print(\"4. Save expenses to CSV\")\n",
        "  print(\"5. Load expenses from CSV\")\n",
        "  print(\"6. Exit\")\n",
        "\n",
        "def main():\n",
        " expenses = load_expenses_from_csv()\n",
        " monthly_budget = 90000.0\n",
        "\n",
        " while True:\n",
        "\n",
        "    display_menu()\n",
        "    try:\n",
        "      choice = int(input(\"Enter your choice (1-6): \"))  # integer input\n",
        "\n",
        "      if choice == 1:\n",
        "        expense_details = get_expense_details()\n",
        "        expense_details['date'] = datetime.date.today().isoformat()\n",
        "        expenses.append(expense_details)\n",
        "        print(\"Expense added successfully!\")\n",
        "\n",
        "      elif choice == 2:\n",
        "        display_expenses(expenses)\n",
        "      elif choice == 3:\n",
        "        calculate_expenses_and_balance(expenses, monthly_budget)\n",
        "      elif choice == 4:\n",
        "        save_expenses_to_csv(expenses)\n",
        "      elif choice == 5:\n",
        "        expenses = load_expenses_from_csv()\n",
        "      elif choice == 6:\n",
        "        break\n",
        "      else:\n",
        "        print(\"Invalid choice. Please enter a number between 1 and 6.\")\n",
        "    except ValueError:\n",
        "      print(\"Invalid input. Please enter a number.\")\n",
        "\n",
        "if __name__ == \"__main__\":\n",
        "  main()\n"
      ],
      "metadata": {
        "colab": {
          "base_uri": "https://localhost:8080/",
          "height": 0
        },
        "id": "AIMkYKjbiHr4",
        "outputId": "5b23eb56-99bc-48cd-a782-d2bb9e3c3f06"
      },
      "execution_count": 8,
      "outputs": [
        {
          "name": "stdout",
          "output_type": "stream",
          "text": [
            "\n",
            "Expense Tracker Menu:\n",
            "1. Add expense\n",
            "2. Display expenses\n",
            "3. Calculate expenses and balance\n",
            "4. Save expenses to CSV\n",
            "5. Load expenses from CSV\n",
            "6. Exit\n",
            "Enter your choice (1-6): 1\n",
            "Enter expense category: Travel\n",
            "Enter expense amount: 12000\n",
            "Enter expense description: Travelling with friends\n",
            "Expense added successfully!\n",
            "\n",
            "Expense Tracker Menu:\n",
            "1. Add expense\n",
            "2. Display expenses\n",
            "3. Calculate expenses and balance\n",
            "4. Save expenses to CSV\n",
            "5. Load expenses from CSV\n",
            "6. Exit\n",
            "Enter your choice (1-6): 2\n",
            "{'date': '2024-11-14', 'category': 'Rent', 'amount': 27000.0, 'description': 'Monthly rent'}\n",
            "{'date': '2024-11-14', 'category': 'Food', 'amount': 15000.0, 'description': 'Total food Budget'}\n",
            "{'date': '2024-11-14', 'category': 'Emis and Bills', 'amount': 28000.0, 'description': 'Electricity bill and car emi'}\n",
            "{'date': '2024-11-14', 'category': 'Misc', 'amount': 10000.0, 'description': 'Veges,dairy,etc'}\n",
            "{'category': 'Travel', 'amount': 12000.0, 'description': 'Travelling with friends', 'date': '2024-11-14'}\n",
            "\n",
            "Expense Tracker Menu:\n",
            "1. Add expense\n",
            "2. Display expenses\n",
            "3. Calculate expenses and balance\n",
            "4. Save expenses to CSV\n",
            "5. Load expenses from CSV\n",
            "6. Exit\n",
            "Enter your choice (1-6): 3\n",
            "Total expenses: 92000.0\n",
            "You have exceeded your budget.\n",
            "\n",
            "Expense Tracker Menu:\n",
            "1. Add expense\n",
            "2. Display expenses\n",
            "3. Calculate expenses and balance\n",
            "4. Save expenses to CSV\n",
            "5. Load expenses from CSV\n",
            "6. Exit\n",
            "Enter your choice (1-6): 4\n",
            "Expenses saved to expenses.csv\n",
            "\n",
            "Expense Tracker Menu:\n",
            "1. Add expense\n",
            "2. Display expenses\n",
            "3. Calculate expenses and balance\n",
            "4. Save expenses to CSV\n",
            "5. Load expenses from CSV\n",
            "6. Exit\n",
            "Enter your choice (1-6): 5\n",
            "\n",
            "Expense Tracker Menu:\n",
            "1. Add expense\n",
            "2. Display expenses\n",
            "3. Calculate expenses and balance\n",
            "4. Save expenses to CSV\n",
            "5. Load expenses from CSV\n",
            "6. Exit\n",
            "Enter your choice (1-6): 6\n"
          ]
        }
      ]
    },
    {
      "cell_type": "code",
      "source": [
        "load_expenses_from_csv()"
      ],
      "metadata": {
        "colab": {
          "base_uri": "https://localhost:8080/",
          "height": 0
        },
        "id": "4TNYvIWpnspl",
        "outputId": "1c042819-e7c1-4550-9772-1cc20ce428b1"
      },
      "execution_count": 17,
      "outputs": [
        {
          "output_type": "execute_result",
          "data": {
            "text/plain": [
              "[{'date': '2024-11-14',\n",
              "  'category': 'Rent',\n",
              "  'amount': 27000.0,\n",
              "  'description': 'Monthly rent'},\n",
              " {'date': '2024-11-14',\n",
              "  'category': 'Food',\n",
              "  'amount': 15000.0,\n",
              "  'description': 'Total food Budget'},\n",
              " {'date': '2024-11-14',\n",
              "  'category': 'Emis and Bills',\n",
              "  'amount': 28000.0,\n",
              "  'description': 'Electricity bill and car emi'},\n",
              " {'date': '2024-11-14',\n",
              "  'category': 'Misc',\n",
              "  'amount': 10000.0,\n",
              "  'description': 'Veges,dairy,etc'},\n",
              " {'date': '2024-11-14',\n",
              "  'category': 'Travel',\n",
              "  'amount': 12000.0,\n",
              "  'description': 'Travelling with friends'}]"
            ]
          },
          "metadata": {},
          "execution_count": 17
        }
      ]
    }
  ]
}